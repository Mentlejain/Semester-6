{
  "nbformat": 4,
  "nbformat_minor": 0,
  "metadata": {
    "colab": {
      "name": "Assignment 3.ipynb",
      "provenance": [],
      "collapsed_sections": [],
      "toc_visible": true
    },
    "kernelspec": {
      "name": "python3",
      "display_name": "Python 3"
    }
  },
  "cells": [
    {
      "cell_type": "markdown",
      "metadata": {
        "id": "jNcQjvvlWVhf"
      },
      "source": [
        "# Assignment 3\r\n",
        "\r\n",
        "---\r\n",
        "by Arnav Kumar Jain\r\n",
        "\r\n",
        "---\r\n",
        "\r\n"
      ]
    },
    {
      "cell_type": "markdown",
      "metadata": {
        "id": "ZDW8Y_QaWd0G"
      },
      "source": [
        "## 1. Consider a 2D list storing student's name along with their marks. Use list comprehension to create another list comprising names of students with  marks greater than 85."
      ]
    },
    {
      "cell_type": "code",
      "metadata": {
        "colab": {
          "base_uri": "https://localhost:8080/"
        },
        "id": "yBEajnfJWlRL",
        "outputId": "d9744746-9f5f-4cbd-ec73-6ade51b56c0e"
      },
      "source": [
        "def toppers(L):\r\n",
        "    return [i for i in L if i[1]>85]\r\n",
        "def main():\r\n",
        "    L=eval(input(\"Enter Marks list: \"))\r\n",
        "    Toppers=toppers(L)\r\n",
        "    print(\"The list of toppers is:\",Toppers)\r\n",
        "if __name__==\"__main__\":\r\n",
        "    main()"
      ],
      "execution_count": null,
      "outputs": [
        {
          "output_type": "stream",
          "text": [
            "Enter Marks list: [['Arnav',92],['Mridul',75],['Vaibhav',88],['Rakshit',72]]\n",
            "The list of toppers is: [['Arnav', 92], ['Vaibhav', 88]]\n"
          ],
          "name": "stdout"
        }
      ]
    },
    {
      "cell_type": "markdown",
      "metadata": {
        "id": "hyxR8LYybSog"
      },
      "source": [
        "## 2. WAP that takes a list of marks as an input from the user and creates a dictionary storing marks and the corresponding frequency as key-value pairs."
      ]
    },
    {
      "cell_type": "code",
      "metadata": {
        "id": "9RNgFl9QbYyq",
        "colab": {
          "base_uri": "https://localhost:8080/"
        },
        "outputId": "68074ab8-82a0-4901-dd43-892630821e4a"
      },
      "source": [
        "def frequency(L):\r\n",
        "    return dict((i,L.count(i)) for i in L)\r\n",
        "def main():\r\n",
        "    L=eval(input(\"Enter Marks list: \"))\r\n",
        "    print(\"The dictionary:\",frequency(L))\r\n",
        "if __name__==\"__main__\":\r\n",
        "    main()"
      ],
      "execution_count": null,
      "outputs": [
        {
          "output_type": "stream",
          "text": [
            "Enter Marks list: [97,99,80,80,97,64,73,75]\n",
            "The dictionary:  {97: 2, 99: 1, 80: 2, 64: 1, 73: 1, 75: 1}\n"
          ],
          "name": "stdout"
        }
      ]
    },
    {
      "cell_type": "markdown",
      "metadata": {
        "id": "VI0Kk13cHrTU"
      },
      "source": [
        "## 3. WAP that takes a list of names as an input from the user and creates a dictionary storing word-length as key-value pair for each word given in the list.\r\n",
        "\r\n",
        "\r\n",
        "\r\n",
        "\r\n"
      ]
    },
    {
      "cell_type": "code",
      "metadata": {
        "colab": {
          "base_uri": "https://localhost:8080/"
        },
        "id": "HjW9srUwKXOx",
        "outputId": "1b8a1af7-b362-4342-afba-11ad444006d9"
      },
      "source": [
        "def name(L):\r\n",
        "    return dict((i,len(i)) for i in L)\r\n",
        "def main():\r\n",
        "    L=eval(input(\"Enter names list: \"))\r\n",
        "    print(\"The dictionary:\",name(L))\r\n",
        "if __name__==\"__main__\":\r\n",
        "    main()"
      ],
      "execution_count": null,
      "outputs": [
        {
          "output_type": "stream",
          "text": [
            "Enter names list: ['Arnav','Mridul','Vaibhav']\n",
            "The dictionary: {'Arnav': 5, 'Mridul': 6, 'Vaibhav': 7}\n"
          ],
          "name": "stdout"
        }
      ]
    }
  ]
}