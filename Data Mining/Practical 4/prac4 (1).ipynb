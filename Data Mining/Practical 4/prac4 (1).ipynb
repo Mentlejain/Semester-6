{
  "nbformat": 4,
  "nbformat_minor": 0,
  "metadata": {
    "colab": {
      "name": "prac4.ipynb",
      "provenance": [],
      "collapsed_sections": []
    },
    "kernelspec": {
      "display_name": "Python 3",
      "name": "python3"
    }
  },
  "cells": [
    {
      "cell_type": "code",
      "metadata": {
        "colab": {
          "base_uri": "https://localhost:8080/"
        },
        "id": "HFftEf_F_eIg",
        "outputId": "553fee58-3856-40a3-a51f-410911b23fa9"
      },
      "source": [
        "import pandas as pd\n",
        "import numpy as np\n",
        "\n",
        "df = pd.read_csv('/content/groceries - groceries.csv',sep=',')\n",
        "df = df.iloc[:,1:]\n",
        "df = df.replace(to_replace = np.nan, value = 'nan') \n",
        "df.shape"
      ],
      "execution_count": null,
      "outputs": [
        {
          "output_type": "execute_result",
          "data": {
            "text/plain": [
              "(9835, 32)"
            ]
          },
          "metadata": {
            "tags": []
          },
          "execution_count": 3
        }
      ]
    },
    {
      "cell_type": "code",
      "metadata": {
        "id": "6dTyBrXqDDOE"
      },
      "source": [
        "from mlxtend.preprocessing import TransactionEncoder\n",
        "from mlxtend.frequent_patterns import apriori\n",
        "from mlxtend.frequent_patterns import association_rules\n",
        "import matplotlib.pyplot as plt"
      ],
      "execution_count": null,
      "outputs": []
    },
    {
      "cell_type": "code",
      "metadata": {
        "id": "hYyVOiXfHP4i",
        "colab": {
          "base_uri": "https://localhost:8080/"
        },
        "outputId": "30b0e010-cc5d-49c8-f603-b73143346bbc"
      },
      "source": [
        "transactions = []\n",
        "\n",
        "for i in range(0, 9835):\n",
        "  temp=[]\n",
        "  for u in df.columns:\n",
        "    if df[u][i]!='nan':\n",
        "      temp.append(df[u][i])\n",
        "  transactions.append(temp)"
      ],
      "execution_count": null,
      "outputs": [
        {
          "output_type": "execute_result",
          "data": {
            "text/plain": [
              "9835"
            ]
          },
          "metadata": {
            "tags": []
          },
          "execution_count": 24
        }
      ]
    },
    {
      "cell_type": "code",
      "metadata": {
        "id": "Y6yxB5GWDl5S"
      },
      "source": [
        "TE = TransactionEncoder()\n",
        "dataset = TE.fit(transactions).transform(transactions)\n",
        "new_df = pd.DataFrame(dataset,columns = TE.columns_)"
      ],
      "execution_count": null,
      "outputs": []
    },
    {
      "cell_type": "code",
      "metadata": {
        "colab": {
          "base_uri": "https://localhost:8080/",
          "height": 978
        },
        "id": "8eVb2UEmLEgZ",
        "outputId": "c0af59c7-3dba-49d7-f3c8-df35d272808e"
      },
      "source": [
        "itemset = apriori(new_df,min_support=0.05,use_colnames=True)\n",
        "itemset"
      ],
      "execution_count": null,
      "outputs": [
        {
          "output_type": "execute_result",
          "data": {
            "text/html": [
              "<div>\n",
              "<style scoped>\n",
              "    .dataframe tbody tr th:only-of-type {\n",
              "        vertical-align: middle;\n",
              "    }\n",
              "\n",
              "    .dataframe tbody tr th {\n",
              "        vertical-align: top;\n",
              "    }\n",
              "\n",
              "    .dataframe thead th {\n",
              "        text-align: right;\n",
              "    }\n",
              "</style>\n",
              "<table border=\"1\" class=\"dataframe\">\n",
              "  <thead>\n",
              "    <tr style=\"text-align: right;\">\n",
              "      <th></th>\n",
              "      <th>support</th>\n",
              "      <th>itemsets</th>\n",
              "    </tr>\n",
              "  </thead>\n",
              "  <tbody>\n",
              "    <tr>\n",
              "      <th>0</th>\n",
              "      <td>0.052466</td>\n",
              "      <td>(beef)</td>\n",
              "    </tr>\n",
              "    <tr>\n",
              "      <th>1</th>\n",
              "      <td>0.080529</td>\n",
              "      <td>(bottled beer)</td>\n",
              "    </tr>\n",
              "    <tr>\n",
              "      <th>2</th>\n",
              "      <td>0.110524</td>\n",
              "      <td>(bottled water)</td>\n",
              "    </tr>\n",
              "    <tr>\n",
              "      <th>3</th>\n",
              "      <td>0.064870</td>\n",
              "      <td>(brown bread)</td>\n",
              "    </tr>\n",
              "    <tr>\n",
              "      <th>4</th>\n",
              "      <td>0.055414</td>\n",
              "      <td>(butter)</td>\n",
              "    </tr>\n",
              "    <tr>\n",
              "      <th>5</th>\n",
              "      <td>0.077682</td>\n",
              "      <td>(canned beer)</td>\n",
              "    </tr>\n",
              "    <tr>\n",
              "      <th>6</th>\n",
              "      <td>0.082766</td>\n",
              "      <td>(citrus fruit)</td>\n",
              "    </tr>\n",
              "    <tr>\n",
              "      <th>7</th>\n",
              "      <td>0.058058</td>\n",
              "      <td>(coffee)</td>\n",
              "    </tr>\n",
              "    <tr>\n",
              "      <th>8</th>\n",
              "      <td>0.053279</td>\n",
              "      <td>(curd)</td>\n",
              "    </tr>\n",
              "    <tr>\n",
              "      <th>9</th>\n",
              "      <td>0.063447</td>\n",
              "      <td>(domestic eggs)</td>\n",
              "    </tr>\n",
              "    <tr>\n",
              "      <th>10</th>\n",
              "      <td>0.058973</td>\n",
              "      <td>(frankfurter)</td>\n",
              "    </tr>\n",
              "    <tr>\n",
              "      <th>11</th>\n",
              "      <td>0.072293</td>\n",
              "      <td>(fruit/vegetable juice)</td>\n",
              "    </tr>\n",
              "    <tr>\n",
              "      <th>12</th>\n",
              "      <td>0.058566</td>\n",
              "      <td>(margarine)</td>\n",
              "    </tr>\n",
              "    <tr>\n",
              "      <th>13</th>\n",
              "      <td>0.052364</td>\n",
              "      <td>(napkins)</td>\n",
              "    </tr>\n",
              "    <tr>\n",
              "      <th>14</th>\n",
              "      <td>0.079817</td>\n",
              "      <td>(newspapers)</td>\n",
              "    </tr>\n",
              "    <tr>\n",
              "      <th>15</th>\n",
              "      <td>0.193493</td>\n",
              "      <td>(other vegetables)</td>\n",
              "    </tr>\n",
              "    <tr>\n",
              "      <th>16</th>\n",
              "      <td>0.088968</td>\n",
              "      <td>(pastry)</td>\n",
              "    </tr>\n",
              "    <tr>\n",
              "      <th>17</th>\n",
              "      <td>0.075648</td>\n",
              "      <td>(pip fruit)</td>\n",
              "    </tr>\n",
              "    <tr>\n",
              "      <th>18</th>\n",
              "      <td>0.057651</td>\n",
              "      <td>(pork)</td>\n",
              "    </tr>\n",
              "    <tr>\n",
              "      <th>19</th>\n",
              "      <td>0.183935</td>\n",
              "      <td>(rolls/buns)</td>\n",
              "    </tr>\n",
              "    <tr>\n",
              "      <th>20</th>\n",
              "      <td>0.108998</td>\n",
              "      <td>(root vegetables)</td>\n",
              "    </tr>\n",
              "    <tr>\n",
              "      <th>21</th>\n",
              "      <td>0.093950</td>\n",
              "      <td>(sausage)</td>\n",
              "    </tr>\n",
              "    <tr>\n",
              "      <th>22</th>\n",
              "      <td>0.098526</td>\n",
              "      <td>(shopping bags)</td>\n",
              "    </tr>\n",
              "    <tr>\n",
              "      <th>23</th>\n",
              "      <td>0.174377</td>\n",
              "      <td>(soda)</td>\n",
              "    </tr>\n",
              "    <tr>\n",
              "      <th>24</th>\n",
              "      <td>0.104931</td>\n",
              "      <td>(tropical fruit)</td>\n",
              "    </tr>\n",
              "    <tr>\n",
              "      <th>25</th>\n",
              "      <td>0.071683</td>\n",
              "      <td>(whipped/sour cream)</td>\n",
              "    </tr>\n",
              "    <tr>\n",
              "      <th>26</th>\n",
              "      <td>0.255516</td>\n",
              "      <td>(whole milk)</td>\n",
              "    </tr>\n",
              "    <tr>\n",
              "      <th>27</th>\n",
              "      <td>0.139502</td>\n",
              "      <td>(yogurt)</td>\n",
              "    </tr>\n",
              "    <tr>\n",
              "      <th>28</th>\n",
              "      <td>0.074835</td>\n",
              "      <td>(whole milk, other vegetables)</td>\n",
              "    </tr>\n",
              "    <tr>\n",
              "      <th>29</th>\n",
              "      <td>0.056634</td>\n",
              "      <td>(whole milk, rolls/buns)</td>\n",
              "    </tr>\n",
              "    <tr>\n",
              "      <th>30</th>\n",
              "      <td>0.056024</td>\n",
              "      <td>(whole milk, yogurt)</td>\n",
              "    </tr>\n",
              "  </tbody>\n",
              "</table>\n",
              "</div>"
            ],
            "text/plain": [
              "     support                        itemsets\n",
              "0   0.052466                          (beef)\n",
              "1   0.080529                  (bottled beer)\n",
              "2   0.110524                 (bottled water)\n",
              "3   0.064870                   (brown bread)\n",
              "4   0.055414                        (butter)\n",
              "5   0.077682                   (canned beer)\n",
              "6   0.082766                  (citrus fruit)\n",
              "7   0.058058                        (coffee)\n",
              "8   0.053279                          (curd)\n",
              "9   0.063447                 (domestic eggs)\n",
              "10  0.058973                   (frankfurter)\n",
              "11  0.072293         (fruit/vegetable juice)\n",
              "12  0.058566                     (margarine)\n",
              "13  0.052364                       (napkins)\n",
              "14  0.079817                    (newspapers)\n",
              "15  0.193493              (other vegetables)\n",
              "16  0.088968                        (pastry)\n",
              "17  0.075648                     (pip fruit)\n",
              "18  0.057651                          (pork)\n",
              "19  0.183935                    (rolls/buns)\n",
              "20  0.108998               (root vegetables)\n",
              "21  0.093950                       (sausage)\n",
              "22  0.098526                 (shopping bags)\n",
              "23  0.174377                          (soda)\n",
              "24  0.104931                (tropical fruit)\n",
              "25  0.071683            (whipped/sour cream)\n",
              "26  0.255516                    (whole milk)\n",
              "27  0.139502                        (yogurt)\n",
              "28  0.074835  (whole milk, other vegetables)\n",
              "29  0.056634        (whole milk, rolls/buns)\n",
              "30  0.056024            (whole milk, yogurt)"
            ]
          },
          "metadata": {
            "tags": []
          },
          "execution_count": 26
        }
      ]
    },
    {
      "cell_type": "code",
      "metadata": {
        "colab": {
          "base_uri": "https://localhost:8080/",
          "height": 283
        },
        "id": "GYhTRu246nDu",
        "outputId": "21ad2f2a-6630-4a08-a8e6-c186fb3485b3"
      },
      "source": [
        "sp = [float(itemset['support'][i])*9835 for i in range(0,itemset.shape[0])]\n",
        "items = [str(itemset['itemsets'][i]) for i in range(0,itemset.shape[0])]\n",
        "plt.bar(items,sp)\n",
        "plt.xticklab"
      ],
      "execution_count": null,
      "outputs": [
        {
          "output_type": "execute_result",
          "data": {
            "text/plain": [
              "<BarContainer object of 31 artists>"
            ]
          },
          "metadata": {
            "tags": []
          },
          "execution_count": 54
        },
        {
          "output_type": "display_data",
          "data": {
            "image/png": "[encoded data removed]",
            "text/plain": [
              "<Figure size 432x288 with 1 Axes>"
            ]
          },
          "metadata": {
            "tags": [],
            "needs_background": "light"
          }
        }
      ]
    },
    {
      "cell_type": "code",
      "metadata": {
        "colab": {
          "base_uri": "https://localhost:8080/",
          "height": 1000
        },
        "id": "CuhpG0AwAExo",
        "outputId": "0d3f852a-04f2-420e-e39d-a73e8ce84450"
      },
      "source": [
        "import seaborn as sns\n",
        "bar = sns.barplot(x=items,y=sp)\n",
        "bar.set_xticklabels(bar.get_xticklabels(),rotation=90)"
      ],
      "execution_count": null,
      "outputs": [
        {
          "output_type": "execute_result",
          "data": {
            "text/plain": [
              "[Text(0, 0, \"frozenset({'beef'})\"),\n",
              " Text(0, 0, \"frozenset({'bottled beer'})\"),\n",
              " Text(0, 0, \"frozenset({'bottled water'})\"),\n",
              " Text(0, 0, \"frozenset({'brown bread'})\"),\n",
              " Text(0, 0, \"frozenset({'butter'})\"),\n",
              " Text(0, 0, \"frozenset({'canned beer'})\"),\n",
              " Text(0, 0, \"frozenset({'citrus fruit'})\"),\n",
              " Text(0, 0, \"frozenset({'coffee'})\"),\n",
              " Text(0, 0, \"frozenset({'curd'})\"),\n",
              " Text(0, 0, \"frozenset({'domestic eggs'})\"),\n",
              " Text(0, 0, \"frozenset({'frankfurter'})\"),\n",
              " Text(0, 0, \"frozenset({'fruit/vegetable juice'})\"),\n",
              " Text(0, 0, \"frozenset({'margarine'})\"),\n",
              " Text(0, 0, \"frozenset({'napkins'})\"),\n",
              " Text(0, 0, \"frozenset({'newspapers'})\"),\n",
              " Text(0, 0, \"frozenset({'other vegetables'})\"),\n",
              " Text(0, 0, \"frozenset({'pastry'})\"),\n",
              " Text(0, 0, \"frozenset({'pip fruit'})\"),\n",
              " Text(0, 0, \"frozenset({'pork'})\"),\n",
              " Text(0, 0, \"frozenset({'rolls/buns'})\"),\n",
              " Text(0, 0, \"frozenset({'root vegetables'})\"),\n",
              " Text(0, 0, \"frozenset({'sausage'})\"),\n",
              " Text(0, 0, \"frozenset({'shopping bags'})\"),\n",
              " Text(0, 0, \"frozenset({'soda'})\"),\n",
              " Text(0, 0, \"frozenset({'tropical fruit'})\"),\n",
              " Text(0, 0, \"frozenset({'whipped/sour cream'})\"),\n",
              " Text(0, 0, \"frozenset({'whole milk'})\"),\n",
              " Text(0, 0, \"frozenset({'yogurt'})\"),\n",
              " Text(0, 0, \"frozenset({'whole milk', 'other vegetables'})\"),\n",
              " Text(0, 0, \"frozenset({'whole milk', 'rolls/buns'})\"),\n",
              " Text(0, 0, \"frozenset({'whole milk', 'yogurt'})\")]"
            ]
          },
          "metadata": {
            "tags": []
          },
          "execution_count": 55
        },
        {
          "output_type": "display_data",
          "data": {
            "image/png": "[encoded data removed]",
            "text/plain": [
              "<Figure size 432x288 with 1 Axes>"
            ]
          },
          "metadata": {
            "tags": [],
            "needs_background": "light"
          }
        }
      ]
    },
    {
      "cell_type": "code",
      "metadata": {
        "colab": {
          "base_uri": "https://localhost:8080/"
        },
        "id": "Qa6nh-T5-WFY",
        "outputId": "371a61c3-64ea-4c36-c1f0-692ea9635fba"
      },
      "source": [
        "float(itemset['support'][2]"
      ],
      "execution_count": null,
      "outputs": [
        {
          "output_type": "execute_result",
          "data": {
            "text/plain": [
              "0.11052364006100661"
            ]
          },
          "metadata": {
            "tags": []
          },
          "execution_count": 49
        }
      ]
    },
    {
      "cell_type": "code",
      "metadata": {
        "colab": {
          "base_uri": "https://localhost:8080/",
          "height": 138
        },
        "id": "pV6KqvacO5V4",
        "outputId": "79fe96f3-6972-454b-fb1e-696d7038665c"
      },
      "source": [
        "association_rules(itemset,metric='confidence',min_threshold=0.3) "
      ],
      "execution_count": null,
      "outputs": [
        {
          "output_type": "execute_result",
          "data": {
            "text/html": [
              "<div>\n",
              "<style scoped>\n",
              "    .dataframe tbody tr th:only-of-type {\n",
              "        vertical-align: middle;\n",
              "    }\n",
              "\n",
              "    .dataframe tbody tr th {\n",
              "        vertical-align: top;\n",
              "    }\n",
              "\n",
              "    .dataframe thead th {\n",
              "        text-align: right;\n",
              "    }\n",
              "</style>\n",
              "<table border=\"1\" class=\"dataframe\">\n",
              "  <thead>\n",
              "    <tr style=\"text-align: right;\">\n",
              "      <th></th>\n",
              "      <th>antecedents</th>\n",
              "      <th>consequents</th>\n",
              "      <th>antecedent support</th>\n",
              "      <th>consequent support</th>\n",
              "      <th>support</th>\n",
              "      <th>confidence</th>\n",
              "      <th>lift</th>\n",
              "      <th>leverage</th>\n",
              "      <th>conviction</th>\n",
              "    </tr>\n",
              "  </thead>\n",
              "  <tbody>\n",
              "    <tr>\n",
              "      <th>0</th>\n",
              "      <td>(other vegetables)</td>\n",
              "      <td>(whole milk)</td>\n",
              "      <td>0.193493</td>\n",
              "      <td>0.255516</td>\n",
              "      <td>0.074835</td>\n",
              "      <td>0.386758</td>\n",
              "      <td>1.513634</td>\n",
              "      <td>0.025394</td>\n",
              "      <td>1.214013</td>\n",
              "    </tr>\n",
              "    <tr>\n",
              "      <th>1</th>\n",
              "      <td>(rolls/buns)</td>\n",
              "      <td>(whole milk)</td>\n",
              "      <td>0.183935</td>\n",
              "      <td>0.255516</td>\n",
              "      <td>0.056634</td>\n",
              "      <td>0.307905</td>\n",
              "      <td>1.205032</td>\n",
              "      <td>0.009636</td>\n",
              "      <td>1.075696</td>\n",
              "    </tr>\n",
              "    <tr>\n",
              "      <th>2</th>\n",
              "      <td>(yogurt)</td>\n",
              "      <td>(whole milk)</td>\n",
              "      <td>0.139502</td>\n",
              "      <td>0.255516</td>\n",
              "      <td>0.056024</td>\n",
              "      <td>0.401603</td>\n",
              "      <td>1.571735</td>\n",
              "      <td>0.020379</td>\n",
              "      <td>1.244132</td>\n",
              "    </tr>\n",
              "  </tbody>\n",
              "</table>\n",
              "</div>"
            ],
            "text/plain": [
              "          antecedents   consequents  ...  leverage  conviction\n",
              "0  (other vegetables)  (whole milk)  ...  0.025394    1.214013\n",
              "1        (rolls/buns)  (whole milk)  ...  0.009636    1.075696\n",
              "2            (yogurt)  (whole milk)  ...  0.020379    1.244132\n",
              "\n",
              "[3 rows x 9 columns]"
            ]
          },
          "metadata": {
            "tags": []
          },
          "execution_count": 27
        }
      ]
    },
    {
      "cell_type": "code",
      "metadata": {
        "id": "oSKccJq4KDOR"
      },
      "source": [
        ""
      ],
      "execution_count": null,
      "outputs": []
    }
  ]
}