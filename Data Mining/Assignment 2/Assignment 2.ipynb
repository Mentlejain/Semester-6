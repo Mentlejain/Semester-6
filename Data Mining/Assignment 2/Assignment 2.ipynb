{
  "nbformat": 4,
  "nbformat_minor": 0,
  "metadata": {
    "colab": {
      "name": "Assignment 2.ipynb",
      "provenance": [],
      "collapsed_sections": [],
      "toc_visible": true
    },
    "kernelspec": {
      "name": "python3",
      "display_name": "Python 3"
    }
  },
  "cells": [
    {
      "cell_type": "markdown",
      "metadata": {
        "id": "aXjPeQ93q3Vg"
      },
      "source": [
        "# Assignment 2\r\n",
        "by Arnav Kumar Jain"
      ]
    },
    {
      "cell_type": "markdown",
      "metadata": {
        "id": "LQCMyiNLq-5-"
      },
      "source": [
        "## 1. WAP that takes a sentence as an input and convert the text in sentence to pig latin.\r\n",
        "Pig-Latin takes the first letter of a word, puts it at the end, and appends ay. The only exception is if the first letter is a vowel, in which case we keep it as it is and append hay to the end."
      ]
    },
    {
      "cell_type": "code",
      "metadata": {
        "colab": {
          "base_uri": "https://localhost:8080/"
        },
        "id": "J-VlN3MrrNqS",
        "outputId": "1c3f65d0-f6b1-40a9-f8e1-f4fdbe7586e5"
      },
      "source": [
        "def piglatin(s):\r\n",
        "    s=s.split(\" \")\r\n",
        "    for i in range(len(s)):\r\n",
        "        if s[i].isalpha():\r\n",
        "            s[i] = s[i]+\"ay\" if s[i][0] in \"AEIOUaeiou\" else s[i][1:]+s[i][0].lower()+\"ay\"\r\n",
        "    s=\" \".join(s).capitalize()\r\n",
        "    return s\r\n",
        "if __name__==\"__main__\":\r\n",
        "    print (piglatin(input(\"Enter a sentence: \")))"
      ],
      "execution_count": 7,
      "outputs": [
        {
          "output_type": "stream",
          "text": [
            "Enter a sentence: This is an example sentence\n",
            "Histay isay anay exampleay entencesay\n"
          ],
          "name": "stdout"
        }
      ]
    },
    {
      "cell_type": "markdown",
      "metadata": {
        "id": "mS5DM-t1wV-_"
      },
      "source": [
        "## 2. WAP that takes a list as an input and returns another list without duplicate values."
      ]
    },
    {
      "cell_type": "code",
      "metadata": {
        "colab": {
          "base_uri": "https://localhost:8080/"
        },
        "id": "vOZC-LSIUkuX",
        "outputId": "fd479417-7ecc-496e-e680-958da1f7daa9"
      },
      "source": [
        "def removedup(L):\r\n",
        "    return [L[i] for i in range (len(L)) if L[i] not in L[:i]]\r\n",
        "def main():\r\n",
        "    L=[]\r\n",
        "    n=int(input(\"Enter length of array: \"))\r\n",
        "    print(\"Enter array elements\")\r\n",
        "    for i in range(n):\r\n",
        "        L.append(input())\r\n",
        "    print(\"Entered array:\",L)\r\n",
        "    print(\"Updated array:\",removedup(L))\r\n",
        "if __name__==\"__main__\":\r\n",
        "    main()"
      ],
      "execution_count": 13,
      "outputs": [
        {
          "output_type": "stream",
          "text": [
            "Enter length of array: 4\n",
            "Enter array elements\n",
            "Hello\n",
            "4\n",
            "4\n",
            "world\n",
            "Entered array: ['Hello', '4', '4', 'world']\n",
            "Updated array: ['Hello', '4', 'world']\n"
          ],
          "name": "stdout"
        }
      ]
    },
    {
      "cell_type": "markdown",
      "metadata": {
        "id": "3N6mgBVPIlkB"
      },
      "source": [
        "## 3. WAP that takes a list as an input and returns the reversed list"
      ]
    },
    {
      "cell_type": "code",
      "metadata": {
        "colab": {
          "base_uri": "https://localhost:8080/"
        },
        "id": "BpOWcROmIxLB",
        "outputId": "278babe3-43d9-4c6c-8436-8f8b3d1f4edc"
      },
      "source": [
        "def reverselist(L):\r\n",
        "    return [L[i] for i in range (-1,-len(L)-1,-1)]\r\n",
        "#Alternative for L.reverse()\r\n",
        "def main():\r\n",
        "    L=[]\r\n",
        "    n=int(input(\"Enter length of array: \"))\r\n",
        "    print(\"Enter array elements\")\r\n",
        "    for i in range(n):\r\n",
        "        L.append(input())\r\n",
        "    print(\"Entered array:\",L)\r\n",
        "    print(\"Updated array:\",reverselist(L))\r\n",
        "if __name__==\"__main__\":\r\n",
        "    main()"
      ],
      "execution_count": 15,
      "outputs": [
        {
          "output_type": "stream",
          "text": [
            "Enter length of array: 4\n",
            "Enter array elements\n",
            "12\n",
            "Python\n",
            "OS\n",
            "32\n",
            "Entered array: ['12', 'Python', 'OS', '32']\n",
            "Updated array: ['32', 'OS', 'Python', '12']\n"
          ],
          "name": "stdout"
        }
      ]
    }
  ]
}