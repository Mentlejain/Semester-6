{
  "nbformat": 4,
  "nbformat_minor": 0,
  "metadata": {
    "colab": {
      "name": "Prac1.ipynb",
      "provenance": []
    },
    "kernelspec": {
      "name": "python3",
      "display_name": "Python 3"
    }
  },
  "cells": [
    {
      "cell_type": "code",
      "metadata": {
        "colab": {
          "base_uri": "https://localhost:8080/",
          "height": 204
        },
        "id": "3vChw5L2r82w",
        "outputId": "ee3f0960-bca1-46f0-ca35-2b6deed78bac"
      },
      "source": [
        "import pandas as pd\r\n",
        "df = pd.read_table(\"/content/Prac1.txt\",delimiter=',')\r\n",
        "df"
      ],
      "execution_count": 3,
      "outputs": [
        {
          "output_type": "execute_result",
          "data": {
            "text/html": [
              "<div>\n",
              "<style scoped>\n",
              "    .dataframe tbody tr th:only-of-type {\n",
              "        vertical-align: middle;\n",
              "    }\n",
              "\n",
              "    .dataframe tbody tr th {\n",
              "        vertical-align: top;\n",
              "    }\n",
              "\n",
              "    .dataframe thead th {\n",
              "        text-align: right;\n",
              "    }\n",
              "</style>\n",
              "<table border=\"1\" class=\"dataframe\">\n",
              "  <thead>\n",
              "    <tr style=\"text-align: right;\">\n",
              "      <th></th>\n",
              "      <th>Age</th>\n",
              "      <th>agegroup</th>\n",
              "      <th>height</th>\n",
              "      <th>status</th>\n",
              "      <th>yearsmarried</th>\n",
              "    </tr>\n",
              "  </thead>\n",
              "  <tbody>\n",
              "    <tr>\n",
              "      <th>0</th>\n",
              "      <td>21</td>\n",
              "      <td>adult</td>\n",
              "      <td>6.0</td>\n",
              "      <td>single</td>\n",
              "      <td>-1</td>\n",
              "    </tr>\n",
              "    <tr>\n",
              "      <th>1</th>\n",
              "      <td>2</td>\n",
              "      <td>child</td>\n",
              "      <td>3.0</td>\n",
              "      <td>married</td>\n",
              "      <td>0</td>\n",
              "    </tr>\n",
              "    <tr>\n",
              "      <th>2</th>\n",
              "      <td>18</td>\n",
              "      <td>adult</td>\n",
              "      <td>5.7</td>\n",
              "      <td>married</td>\n",
              "      <td>20</td>\n",
              "    </tr>\n",
              "    <tr>\n",
              "      <th>3</th>\n",
              "      <td>221</td>\n",
              "      <td>elderly</td>\n",
              "      <td>5.0</td>\n",
              "      <td>widowed</td>\n",
              "      <td>2</td>\n",
              "    </tr>\n",
              "    <tr>\n",
              "      <th>4</th>\n",
              "      <td>34</td>\n",
              "      <td>child</td>\n",
              "      <td>-7.0</td>\n",
              "      <td>married</td>\n",
              "      <td>3</td>\n",
              "    </tr>\n",
              "  </tbody>\n",
              "</table>\n",
              "</div>"
            ],
            "text/plain": [
              "   Age agegroup  height   status  yearsmarried\n",
              "0   21    adult     6.0   single            -1\n",
              "1    2    child     3.0  married             0\n",
              "2   18    adult     5.7  married            20\n",
              "3  221  elderly     5.0  widowed             2\n",
              "4   34    child    -7.0  married             3"
            ]
          },
          "metadata": {
            "tags": []
          },
          "execution_count": 3
        }
      ]
    },
    {
      "cell_type": "code",
      "metadata": {
        "id": "XhC7NBzMsU4E"
      },
      "source": [
        "#Age must be iin range 0 to 150\r\n",
        "def rules(df):\r\n",
        "  novio = 0\r\n",
        "\r\n",
        "  Agecheck = lambda x: x in range(151)\r\n",
        "  test1 = df['Age'].apply(Agecheck).rename('Agecheck')\r\n",
        "  print(\"Rule:The age should be in the range 0-150 \")\r\n",
        "  for items in test1:\r\n",
        "    if items == False:\r\n",
        "      novio += 1\r\n",
        "  print(\"No of violations:\",novio)\r\n",
        "\r\n",
        "  novio = 0\r\n",
        "  Yearscheck = lambda x: x[0] > x[1]\r\n",
        "  test2 = df[['Age','yearsmarried']].apply(Yearscheck, axis=1).rename('Yearscheck')\r\n",
        "  print(\"Rule: Age should be greater than yearsmarried: \")\r\n",
        "  for items in test2:\r\n",
        "    if items == False:\r\n",
        "      novio += 1\r\n",
        "  print(\"No of violations:\",novio)\r\n",
        "\r\n",
        "  novio = 0\r\n",
        "  statuscheck = lambda x: x in ('married','single','widowed')\r\n",
        "  test3 = df['status'].apply(statuscheck).rename('statuscheck')\r\n",
        "  print(\"Rule: Status should be married single or widowed \")\r\n",
        "  for items in test3:\r\n",
        "    if items == False:\r\n",
        "      novio += 1\r\n",
        "  print(\"No of violations:\",novio)\r\n",
        "\r\n",
        "  novio = 0\r\n",
        "  Agegroupcheck = lambda x: (x[0] in range(18) and x[1]=='child') or (x[0] in range(18,65) and x[1]=='adult') or (x[0] in range(65,150) and x[1]=='elderly')\r\n",
        "  test4 = df[['Age','agegroup']].apply(Agegroupcheck , axis=1).rename('Agegroupcheck')\r\n",
        "  print(\"Rule: If age is less than 18 the age group should be child,if age is between 18 and 65 age group should be adult , otherwise elderly\")\r\n",
        "  for items in test4:\r\n",
        "    if items == False:\r\n",
        "      novio += 1\r\n",
        "  print(\"No of violations:\",novio)\r\n",
        "\r\n",
        "  return pd.DataFrame([test1,test2,test3,test4])"
      ],
      "execution_count": 55,
      "outputs": []
    },
    {
      "cell_type": "code",
      "metadata": {
        "colab": {
          "base_uri": "https://localhost:8080/"
        },
        "id": "i4noCi9pjBrd",
        "outputId": "0b7072b0-6ba9-4a00-e889-b3855490c82b"
      },
      "source": [
        "test = []\r\n",
        "Agecheck = lambda x: x in range(151)\r\n",
        "test.append(df['Age'].apply(Agecheck).rename('Agecheck')) \r\n",
        "\r\n",
        "Agegroupcheck = lambda x: (x[0] in range(18) and x[1]=='child') or (x[0] in range(18,65) and x[1]=='adult') or (x[0] in range(65,150) and x[1]=='elderly')\r\n",
        "test.append(df[['Age','agegroup']].apply(Agegroupcheck , axis=1).rename('Agegroupcheck'))\r\n",
        "\r\n",
        "print(pd.DataFrame(test))\r\n",
        "for items in test:\r\n",
        "  novio = 0\r\n",
        "  for j in items:\r\n",
        "    if j == False:\r\n",
        "      novio += 1\r\n",
        "  print(\"No of violations:\",novio)"
      ],
      "execution_count": 60,
      "outputs": [
        {
          "output_type": "stream",
          "text": [
            "                  0     1     2      3      4\n",
            "Agecheck       True  True  True  False   True\n",
            "Agegroupcheck  True  True  True  False  False\n",
            "No of violations: 1\n",
            "No of violations: 2\n"
          ],
          "name": "stdout"
        }
      ]
    },
    {
      "cell_type": "code",
      "metadata": {
        "colab": {
          "base_uri": "https://localhost:8080/",
          "height": 428
        },
        "id": "gCwYG2a6uiR-",
        "outputId": "ca42b780-54c1-4f19-cccb-ff2482b4d882"
      },
      "source": [
        "#Summarising the result\r\n",
        "res = rules(df)\r\n",
        "print(\"\\n\",res,\"\\n\")\r\n",
        "res.describe()"
      ],
      "execution_count": 59,
      "outputs": [
        {
          "output_type": "stream",
          "text": [
            "Rule:The age should be in the range 0-150 \n",
            "No of violations: 1\n",
            "Rule: Age should be greater than yearsmarried: \n",
            "No of violations: 1\n",
            "Rule: Status should be married single or widowed \n",
            "No of violations: 0\n",
            "Rule: If age is less than 18 the age group should be child,if age is between 18 and 65 age group should be adult , otherwise elderly\n",
            "No of violations: 2\n",
            "\n",
            "                   0     1      2      3      4\n",
            "Agecheck       True  True   True  False   True\n",
            "Yearscheck     True  True  False   True   True\n",
            "statuscheck    True  True   True   True   True\n",
            "Agegroupcheck  True  True   True  False  False \n",
            "\n"
          ],
          "name": "stdout"
        },
        {
          "output_type": "execute_result",
          "data": {
            "text/html": [
              "<div>\n",
              "<style scoped>\n",
              "    .dataframe tbody tr th:only-of-type {\n",
              "        vertical-align: middle;\n",
              "    }\n",
              "\n",
              "    .dataframe tbody tr th {\n",
              "        vertical-align: top;\n",
              "    }\n",
              "\n",
              "    .dataframe thead th {\n",
              "        text-align: right;\n",
              "    }\n",
              "</style>\n",
              "<table border=\"1\" class=\"dataframe\">\n",
              "  <thead>\n",
              "    <tr style=\"text-align: right;\">\n",
              "      <th></th>\n",
              "      <th>0</th>\n",
              "      <th>1</th>\n",
              "      <th>2</th>\n",
              "      <th>3</th>\n",
              "      <th>4</th>\n",
              "    </tr>\n",
              "  </thead>\n",
              "  <tbody>\n",
              "    <tr>\n",
              "      <th>count</th>\n",
              "      <td>4</td>\n",
              "      <td>4</td>\n",
              "      <td>4</td>\n",
              "      <td>4</td>\n",
              "      <td>4</td>\n",
              "    </tr>\n",
              "    <tr>\n",
              "      <th>unique</th>\n",
              "      <td>1</td>\n",
              "      <td>1</td>\n",
              "      <td>2</td>\n",
              "      <td>2</td>\n",
              "      <td>2</td>\n",
              "    </tr>\n",
              "    <tr>\n",
              "      <th>top</th>\n",
              "      <td>True</td>\n",
              "      <td>True</td>\n",
              "      <td>True</td>\n",
              "      <td>True</td>\n",
              "      <td>True</td>\n",
              "    </tr>\n",
              "    <tr>\n",
              "      <th>freq</th>\n",
              "      <td>4</td>\n",
              "      <td>4</td>\n",
              "      <td>3</td>\n",
              "      <td>2</td>\n",
              "      <td>3</td>\n",
              "    </tr>\n",
              "  </tbody>\n",
              "</table>\n",
              "</div>"
            ],
            "text/plain": [
              "           0     1     2     3     4\n",
              "count      4     4     4     4     4\n",
              "unique     1     1     2     2     2\n",
              "top     True  True  True  True  True\n",
              "freq       4     4     3     2     3"
            ]
          },
          "metadata": {
            "tags": []
          },
          "execution_count": 59
        }
      ]
    },
    {
      "cell_type": "code",
      "metadata": {
        "colab": {
          "base_uri": "https://localhost:8080/",
          "height": 384
        },
        "id": "wukJzKA-YfO9",
        "outputId": "de0d5f5c-3b66-4a89-d5da-62086abe2c93"
      },
      "source": [
        "#Visualising the results\r\n",
        "res = res.astype(int)\r\n",
        "res.plot.bar()\r\n",
        "plt.yticks([0,1],['False','True'])"
      ],
      "execution_count": 43,
      "outputs": [
        {
          "output_type": "execute_result",
          "data": {
            "text/plain": [
              "([<matplotlib.axis.YTick at 0x7f846fdb2908>,\n",
              "  <matplotlib.axis.YTick at 0x7f846fdb2320>],\n",
              " [Text(0, 0, 'False'), Text(0, 0, 'True')])"
            ]
          },
          "metadata": {
            "tags": []
          },
          "execution_count": 43
        },
        {
          "output_type": "display_data",
          "data": {
            "image/png": "[encoded data removed]",
            "text/plain": [
              "<Figure size 432x288 with 1 Axes>"
            ]
          },
          "metadata": {
            "tags": [],
            "needs_background": "light"
          }
        }
      ]
    }
  ]
}