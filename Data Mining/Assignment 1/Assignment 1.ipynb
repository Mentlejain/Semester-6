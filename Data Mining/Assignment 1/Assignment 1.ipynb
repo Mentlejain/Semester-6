{
  "nbformat": 4,
  "nbformat_minor": 0,
  "metadata": {
    "colab": {
      "name": "Assignment 1.ipynb",
      "provenance": [],
      "collapsed_sections": [],
      "toc_visible": true
    },
    "kernelspec": {
      "name": "python3",
      "display_name": "Python 3"
    }
  },
  "cells": [
    {
      "cell_type": "markdown",
      "metadata": {
        "id": "a5DkldE5kSjk"
      },
      "source": [
        "# **Python Assignment**\r\n",
        "by Arnav Kumar Jain"
      ]
    },
    {
      "cell_type": "markdown",
      "metadata": {
        "id": "O8YoYjGZkBI4"
      },
      "source": [
        "**Write a Python program and submit the IPython Notebook and corresponding pdf version. Please use modular programming approach.**"
      ]
    },
    {
      "cell_type": "markdown",
      "metadata": {
        "id": "ojAXNsc5kpYO"
      },
      "source": [
        "## 1. Sum of digits of a number"
      ]
    },
    {
      "cell_type": "markdown",
      "metadata": {
        "id": "goh7EhO4k77r"
      },
      "source": [
        "Python code for the given problem"
      ]
    },
    {
      "cell_type": "code",
      "metadata": {
        "colab": {
          "base_uri": "https://localhost:8080/"
        },
        "id": "D_Kopcw4lB-D",
        "outputId": "9454cccf-8f4f-4567-f3b4-3f8d941c00f9"
      },
      "source": [
        "def getDigitSum(n):\n",
        "\n",
        "    \"\"\"Objective: Get Sum of digits of the number\n",
        "    Returns:sum Type:int\n",
        "    \"\"\"\n",
        "    return sum([int(i) for i in n if i.isdigit()])\n",
        "if __name__==\"__main__\":\n",
        "    print(getDigitSum(input(\"Enter a number: \")))"
      ],
      "execution_count": null,
      "outputs": [
        {
          "output_type": "stream",
          "text": [
            "Enter a number: -34.72\n",
            "16\n"
          ],
          "name": "stdout"
        }
      ]
    },
    {
      "cell_type": "markdown",
      "metadata": {
        "id": "XCGn8WPtdn9g"
      },
      "source": [
        "The Above Code Works for all Integers and Floating point numbers (both negative and positive)"
      ]
    },
    {
      "cell_type": "markdown",
      "metadata": {
        "id": "AClMONETfAkn"
      },
      "source": [
        "## 2. Print the following patterns"
      ]
    },
    {
      "cell_type": "markdown",
      "metadata": {
        "id": "ojiZZNNojED4"
      },
      "source": [
        "###Pattern A\r\n",
        "       1   2   3   4   5\r\n",
        "       1   2   3   4 \r\n",
        "       1   2   3  \r\n",
        "       1   2   \r\n",
        "       1"
      ]
    },
    {
      "cell_type": "code",
      "metadata": {
        "colab": {
          "base_uri": "https://localhost:8080/"
        },
        "id": "vnZWkQJZkUPS",
        "outputId": "572a3011-c28d-4c06-f2fc-bc2c756d067c"
      },
      "source": [
        " def patternA(n):\r\n",
        "    for i in range(n,0,-1):\r\n",
        "        for j in range(1,i+1):\r\n",
        "            print(j,end=\"   \")\r\n",
        "        print('\\n')\r\n",
        "patternA(5) #Example Output"
      ],
      "execution_count": null,
      "outputs": [
        {
          "output_type": "stream",
          "text": [
            "1   2   3   4   5   \n",
            "\n",
            "1   2   3   4   \n",
            "\n",
            "1   2   3   \n",
            "\n",
            "1   2   \n",
            "\n",
            "1   \n",
            "\n"
          ],
          "name": "stdout"
        }
      ]
    },
    {
      "cell_type": "markdown",
      "metadata": {
        "id": "BEt_3MN9l57b"
      },
      "source": [
        "###Pattern B\r\n",
        "       5\r\n",
        "       5   4\r\n",
        "       5   4   3\r\n",
        "       5   4   3   2\r\n",
        "       5   4   3   2   1"
      ]
    },
    {
      "cell_type": "code",
      "metadata": {
        "colab": {
          "base_uri": "https://localhost:8080/"
        },
        "id": "iMPSGIPGmQ3f",
        "outputId": "8548a7b8-3b56-4015-a36c-e8e73d82981d"
      },
      "source": [
        "def patternB(n):\r\n",
        "    for i in range(5,0,-1):\r\n",
        "        for j in range(5,i-1,-1):\r\n",
        "            print(j,end=\"   \")\r\n",
        "        print('\\n')\r\n",
        "patternB(5) #Example Output"
      ],
      "execution_count": null,
      "outputs": [
        {
          "output_type": "stream",
          "text": [
            "5   \n",
            "\n",
            "5   4   \n",
            "\n",
            "5   4   3   \n",
            "\n",
            "5   4   3   2   \n",
            "\n",
            "5   4   3   2   1   \n",
            "\n"
          ],
          "name": "stdout"
        }
      ]
    },
    {
      "cell_type": "markdown",
      "metadata": {
        "id": "Mj8DlzVzn_P6"
      },
      "source": [
        "###Pattern C\r\n",
        "            1\r\n",
        "        2   1   2\r\n",
        "    3   2   1   2   3"
      ]
    },
    {
      "cell_type": "code",
      "metadata": {
        "colab": {
          "base_uri": "https://localhost:8080/"
        },
        "id": "YiyvmhQ6n_QG",
        "outputId": "c7f55bda-90a9-4e81-a7b2-3fa1de3965aa"
      },
      "source": [
        "def patternC(n):\r\n",
        "    for i in range(0,n,1):\r\n",
        "        for j in range(1,2*n,1):\r\n",
        "            if j<(n-i) or j>(n+i):\r\n",
        "                print(\" \",end=\"  \")\r\n",
        "            else:\r\n",
        "                print((n-j)%n+1,end=\"  \") if j<n else print(j%n+1,end=\"  \")\r\n",
        "        print('\\n')\r\n",
        "patternC(3) #Example Output"
      ],
      "execution_count": null,
      "outputs": [
        {
          "output_type": "stream",
          "text": [
            "      1        \n",
            "\n",
            "   2  1  2     \n",
            "\n",
            "3  2  1  2  3  \n",
            "\n"
          ],
          "name": "stdout"
        }
      ]
    },
    {
      "cell_type": "markdown",
      "metadata": {
        "id": "soSemreXrCJy"
      },
      "source": [
        "### Driver Code"
      ]
    },
    {
      "cell_type": "code",
      "metadata": {
        "colab": {
          "base_uri": "https://localhost:8080/"
        },
        "id": "BinqEQsNR3dO",
        "outputId": "f8098f3d-e8d7-4afa-eeda-ed8ae084abaa"
      },
      "source": [
        "def main():\r\n",
        "    n=int(input(\"Enter number of rows: \"))\r\n",
        "    print(\"\"\"Select a pattern to print\r\n",
        "    Pattern A\r\n",
        "    Pattern B\r\n",
        "    Pattern C\\n\"\"\")\r\n",
        "    op=input(\"Pattern: \").upper()\r\n",
        "    print()\r\n",
        "    #patternA(n) if op=='A' else (patternB if op=='B' else (patternC if op=='C' else print(\"Invalid Option\"))) \r\n",
        "    eval(\"pattern\"+op+\"(\"+str(n)+\")\") if op in ['A','B','C'] else print(\"Invalid Option\")\r\n",
        "if __name__==\"__main__\":\r\n",
        "    main()"
      ],
      "execution_count": null,
      "outputs": [
        {
          "output_type": "stream",
          "text": [
            "Enter number of rows: 5\n",
            "Select a pattern to print\n",
            "    Pattern A\n",
            "    Pattern B\n",
            "    Pattern C\n",
            "\n",
            "Pattern: C\n",
            "\n",
            "            1              \n",
            "\n",
            "         2  1  2           \n",
            "\n",
            "      3  2  1  2  3        \n",
            "\n",
            "   4  3  2  1  2  3  4     \n",
            "\n",
            "5  4  3  2  1  2  3  4  5  \n",
            "\n"
          ],
          "name": "stdout"
        }
      ]
    }
  ]
}